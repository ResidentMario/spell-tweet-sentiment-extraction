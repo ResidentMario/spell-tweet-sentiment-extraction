{
 "cells": [
  {
   "cell_type": "markdown",
   "metadata": {},
   "source": [
    "# initial-model\n",
    "\n",
    "This notebook is the prototype build for the initial model. The intent is getting something working; there may be some not-niceness involved which will be cleaned up in future iterations.\n",
    "\n",
    "Credit where credit is due, this model is a rewrite of [BERT Base Uncased using PyTorch](https://www.kaggle.com/abhishek/bert-base-uncased-using-pytorch/)."
   ]
  },
  {
   "cell_type": "markdown",
   "metadata": {},
   "source": [
    "## data exploration"
   ]
  },
  {
   "cell_type": "markdown",
   "metadata": {},
   "source": [
    "https://www.kaggle.com/abhishek/bert-base-uncased-using-pytorch"
   ]
  },
  {
   "cell_type": "code",
   "execution_count": 1,
   "metadata": {},
   "outputs": [],
   "source": [
    "import pandas as pd\n",
    "train = pd.read_csv(\"/mnt/tweet-sentiment-extraction/train.csv\")"
   ]
  },
  {
   "cell_type": "code",
   "execution_count": 2,
   "metadata": {},
   "outputs": [
    {
     "data": {
      "text/html": [
       "<div>\n",
       "<style scoped>\n",
       "    .dataframe tbody tr th:only-of-type {\n",
       "        vertical-align: middle;\n",
       "    }\n",
       "\n",
       "    .dataframe tbody tr th {\n",
       "        vertical-align: top;\n",
       "    }\n",
       "\n",
       "    .dataframe thead th {\n",
       "        text-align: right;\n",
       "    }\n",
       "</style>\n",
       "<table border=\"1\" class=\"dataframe\">\n",
       "  <thead>\n",
       "    <tr style=\"text-align: right;\">\n",
       "      <th></th>\n",
       "      <th>textID</th>\n",
       "      <th>text</th>\n",
       "      <th>selected_text</th>\n",
       "      <th>sentiment</th>\n",
       "    </tr>\n",
       "  </thead>\n",
       "  <tbody>\n",
       "    <tr>\n",
       "      <th>0</th>\n",
       "      <td>cb774db0d1</td>\n",
       "      <td>I`d have responded, if I were going</td>\n",
       "      <td>I`d have responded, if I were going</td>\n",
       "      <td>neutral</td>\n",
       "    </tr>\n",
       "    <tr>\n",
       "      <th>1</th>\n",
       "      <td>549e992a42</td>\n",
       "      <td>Sooo SAD I will miss you here in San Diego!!!</td>\n",
       "      <td>Sooo SAD</td>\n",
       "      <td>negative</td>\n",
       "    </tr>\n",
       "    <tr>\n",
       "      <th>2</th>\n",
       "      <td>088c60f138</td>\n",
       "      <td>my boss is bullying me...</td>\n",
       "      <td>bullying me</td>\n",
       "      <td>negative</td>\n",
       "    </tr>\n",
       "    <tr>\n",
       "      <th>3</th>\n",
       "      <td>9642c003ef</td>\n",
       "      <td>what interview! leave me alone</td>\n",
       "      <td>leave me alone</td>\n",
       "      <td>negative</td>\n",
       "    </tr>\n",
       "    <tr>\n",
       "      <th>4</th>\n",
       "      <td>358bd9e861</td>\n",
       "      <td>Sons of ****, why couldn`t they put them on t...</td>\n",
       "      <td>Sons of ****,</td>\n",
       "      <td>negative</td>\n",
       "    </tr>\n",
       "    <tr>\n",
       "      <th>...</th>\n",
       "      <td>...</td>\n",
       "      <td>...</td>\n",
       "      <td>...</td>\n",
       "      <td>...</td>\n",
       "    </tr>\n",
       "    <tr>\n",
       "      <th>27476</th>\n",
       "      <td>4eac33d1c0</td>\n",
       "      <td>wish we could come see u on Denver  husband l...</td>\n",
       "      <td>d lost</td>\n",
       "      <td>negative</td>\n",
       "    </tr>\n",
       "    <tr>\n",
       "      <th>27477</th>\n",
       "      <td>4f4c4fc327</td>\n",
       "      <td>I`ve wondered about rake to.  The client has ...</td>\n",
       "      <td>, don`t force</td>\n",
       "      <td>negative</td>\n",
       "    </tr>\n",
       "    <tr>\n",
       "      <th>27478</th>\n",
       "      <td>f67aae2310</td>\n",
       "      <td>Yay good for both of you. Enjoy the break - y...</td>\n",
       "      <td>Yay good for both of you.</td>\n",
       "      <td>positive</td>\n",
       "    </tr>\n",
       "    <tr>\n",
       "      <th>27479</th>\n",
       "      <td>ed167662a5</td>\n",
       "      <td>But it was worth it  ****.</td>\n",
       "      <td>But it was worth it  ****.</td>\n",
       "      <td>positive</td>\n",
       "    </tr>\n",
       "    <tr>\n",
       "      <th>27480</th>\n",
       "      <td>6f7127d9d7</td>\n",
       "      <td>All this flirting going on - The ATG smiles...</td>\n",
       "      <td>All this flirting going on - The ATG smiles. Y...</td>\n",
       "      <td>neutral</td>\n",
       "    </tr>\n",
       "  </tbody>\n",
       "</table>\n",
       "<p>27481 rows × 4 columns</p>\n",
       "</div>"
      ],
      "text/plain": [
       "           textID                                               text  \\\n",
       "0      cb774db0d1                I`d have responded, if I were going   \n",
       "1      549e992a42      Sooo SAD I will miss you here in San Diego!!!   \n",
       "2      088c60f138                          my boss is bullying me...   \n",
       "3      9642c003ef                     what interview! leave me alone   \n",
       "4      358bd9e861   Sons of ****, why couldn`t they put them on t...   \n",
       "...           ...                                                ...   \n",
       "27476  4eac33d1c0   wish we could come see u on Denver  husband l...   \n",
       "27477  4f4c4fc327   I`ve wondered about rake to.  The client has ...   \n",
       "27478  f67aae2310   Yay good for both of you. Enjoy the break - y...   \n",
       "27479  ed167662a5                         But it was worth it  ****.   \n",
       "27480  6f7127d9d7     All this flirting going on - The ATG smiles...   \n",
       "\n",
       "                                           selected_text sentiment  \n",
       "0                    I`d have responded, if I were going   neutral  \n",
       "1                                               Sooo SAD  negative  \n",
       "2                                            bullying me  negative  \n",
       "3                                         leave me alone  negative  \n",
       "4                                          Sons of ****,  negative  \n",
       "...                                                  ...       ...  \n",
       "27476                                             d lost  negative  \n",
       "27477                                      , don`t force  negative  \n",
       "27478                          Yay good for both of you.  positive  \n",
       "27479                         But it was worth it  ****.  positive  \n",
       "27480  All this flirting going on - The ATG smiles. Y...   neutral  \n",
       "\n",
       "[27481 rows x 4 columns]"
      ]
     },
     "execution_count": 2,
     "metadata": {},
     "output_type": "execute_result"
    }
   ],
   "source": [
    "train"
   ]
  },
  {
   "cell_type": "markdown",
   "metadata": {},
   "source": [
    "Notes on some lessons learned during the replication process.\n",
    "\n",
    "1. > You're attempting to predict the word or phrase from the tweet that exemplifies the provided sentiment.\n",
    "  \n",
    "  So `text` and `sentiment` are inputs, `selected_text` is the target. `selected_text` is a sub-sentence fragment.\n",
    "  \n",
    "  It's not immediately obvious to me how you would modify the design of the neural network to achieve this, so this is a good exercise in network architecture imagination besides.\n",
    "2. There are two interfaces to language encoders in the `huggingface` ecosystem: `tokenizers`, the low-level library, and `transformers`, the original library.\n",
    "  \n",
    "  The `transformers` interface lets you instantiate a pretrained network without having to download the dataset, but does not offer an interface to any of the methods besides the output tokens themselves. \n",
    "  \n",
    "  The `tokenizers` interface forces you to have the whole thing on disk, but exposes a richer underlying API. This model uses this underlying API, so we will have to do things this way.\n",
    "3. `transformers` models let you swap to the version of the BERT model trained (fine-tuned?) on question-answer pairs transparently by setting the `token_type_ids` property on the model. We're adapting question-answering to this task by cleverly encoding the input records as a `sentiment:tweet` pair and using a custom head for outputting logits for each element of the output sentence."
   ]
  },
  {
   "cell_type": "markdown",
   "metadata": {},
   "source": [
    "## prototype data part"
   ]
  },
  {
   "cell_type": "code",
   "execution_count": 3,
   "metadata": {},
   "outputs": [],
   "source": [
    "import os\n",
    "import torch\n",
    "import pandas as pd\n",
    "import numpy as np\n",
    "import torch.nn as nn\n",
    "import numpy as np\n",
    "import torch.nn.functional as F\n",
    "from torch.optim import lr_scheduler\n",
    "\n",
    "from sklearn import model_selection\n",
    "from sklearn import metrics\n",
    "import transformers\n",
    "import tokenizers\n",
    "from transformers import AdamW, AutoTokenizer, get_linear_schedule_with_warmup\n",
    "from tqdm.autonotebook import tqdm\n",
    "from collections import namedtuple"
   ]
  },
  {
   "cell_type": "code",
   "execution_count": 4,
   "metadata": {},
   "outputs": [],
   "source": [
    "def process_data(tweet, selected_text, sentiment, tokenizer, max_len):\n",
    "    # yes this really happens lol, try idx 314\n",
    "    if pd.isnull(tweet) or pd.isnull(selected_text) or len(tweet) == 0 or len(selected_text) == 0:\n",
    "        raise ValueError(\"text or selected_text is nan.\")\n",
    "    \n",
    "    # get indicial boundaries of substring.\n",
    "    target_char_idx_start = tweet.index(selected_text)\n",
    "    target_char_idx_end = target_char_idx_start + len(selected_text)\n",
    "\n",
    "    # build the character attention mask (used to build the token attention mask)\n",
    "    char_target_mask = (\n",
    "        [0] * target_char_idx_start +\n",
    "        [1] * (target_char_idx_end - target_char_idx_start) +\n",
    "        [0] * (len(tweet) - target_char_idx_end)\n",
    "    )\n",
    "    \n",
    "    # tokenize\n",
    "    # `ids` is the token values, `offsets` are the position tuples for the tokes in the str\n",
    "    tokens_obj = tokenizer.encode(tweet)\n",
    "    token_ids, token_offsets = tokens_obj.ids, tokens_obj.offsets\n",
    "    \n",
    "    # this is the clever bit. recall that the task is to find the subsequence in the sequence\n",
    "    # exemplifying the given sentiment. to do this we reformulate the input sequence as a\n",
    "    # question-answer pair, where the sentiment (as a single word) is the question and the\n",
    "    # sequence as a whole is the answer.\n",
    "    # \n",
    "    # this allows us to use version of the BERT model pretrained on the well-formed and\n",
    "    # well-studied question-answering task as a surrogate for this task.\n",
    "    sentiment_id_map = {\n",
    "        'positive': 3893,\n",
    "        'negative': 4997,\n",
    "        'neutral': 8699\n",
    "    }\n",
    "    # 101 is [CLS] and 102 is [SEP]. BERT expects Q/A input to be in the form\n",
    "    # [CLS] [...] [SEP] [...] [SEP]. Cf.\n",
    "    # https://huggingface.co/transformers/glossary.html#token-type-ids\n",
    "    # NOTE: the [-1:1] is the excise the start-of-seq and end-of-seq in the tokens\n",
    "    input_ids = [101] + [sentiment_id_map[sentiment]] + [102] + token_ids[1:-1] + [102]\n",
    "    \n",
    "    # BERT expects Q/A pairs to come with a binary mask splitting the pair types\n",
    "    # NOTE: the mafs excludes start-of-seq and end-of-seq but includes the new end-of-seq\n",
    "    token_type_ids = [0, 0, 0] + [1] * (len(token_ids) - 2 + 1)\n",
    "\n",
    "    # pad to max_len and create a corresponding attention mask\n",
    "    pad_len = max_len - len(input_ids)\n",
    "    attention_mask = [1] * len(input_ids) + [0] * pad_len\n",
    "    input_ids = input_ids + [0] * pad_len\n",
    "    token_type_ids = token_type_ids + [0] * pad_len\n",
    "    \n",
    "    # get the index of the first and last token of the target, this is what the model will try\n",
    "    # to predict! see the notes on the head layer in forward for more info.\n",
    "    # we add 3 because the first thee elements of the mask are always [CLS] $SENTIMENT [CLS]\n",
    "    # and always get an attention vector [1 1 1].\n",
    "    ufunc = lambda first, _: first >= target_char_idx_start and first < target_char_idx_end\n",
    "    y_pred_mask = [ufunc(*offset) for offset in token_offsets]\n",
    "    try:\n",
    "        y_first = 3 + y_pred_mask.index(True)\n",
    "        y_last = 3 + len(y_pred_mask) - y_pred_mask[::-1].index(True) - 1\n",
    "    except ValueError:\n",
    "        # some of the labels are noisy, and the first character in the label does not actually\n",
    "        # correspond with the first character of any token (e.g. the label is a part-of-a-word\n",
    "        # instead of a word). I'm going to venture the opinion here that these records \n",
    "        # constitute data noise (because, I mean, they are) and should be removed in\n",
    "        # pre-processing\n",
    "        raise ValueError(\n",
    "            f\"Found bad selected_text value '{selected_text}' for tweet '{tweet}'.\"\n",
    "            f\"Make sure to get rid of these in a pre-processing pass.\"\n",
    "        )\n",
    "    \n",
    "    # convert to torch tensors\n",
    "    t = lambda seq: torch.tensor(seq, dtype=torch.long)\n",
    "    input_ids, token_type_ids, attention_mask, y_first, y_last =\\\n",
    "        t(input_ids), t(token_type_ids), t(attention_mask), t(y_first), t(y_last)\n",
    "    \n",
    "    # output\n",
    "    # Unfortunately the PyTorch dataloader relies on pickle, and TIL namedtuples do not play nice\n",
    "    # with pickle!\n",
    "    # Record = namedtuple('record', 'input_ids token_type_ids attention_mask y_first y_last')\n",
    "    # return Record(input_ids, token_type_ids, attention_mask, y_first, y_last)\n",
    "    return {\n",
    "        \"input_ids\": input_ids,\n",
    "        \"token_type_ids\": token_type_ids,\n",
    "        \"attention_mask\": attention_mask,\n",
    "        \"y_first\": y_first,\n",
    "        \"y_last\": y_last\n",
    "    }\n",
    "\n",
    "class TwitterSentimentExtractionDataset:\n",
    "    def __init__(self, df):\n",
    "        self.df = df\n",
    "        self.tokenizer = tokenizers.BertWordPieceTokenizer(\n",
    "            f\"/mnt/bert-base-uncased/vocab.txt\", lowercase=True\n",
    "        )\n",
    "        self.max_len = 128\n",
    "    \n",
    "    def __len__(self):\n",
    "        return len(self.df)\n",
    "\n",
    "    def __getitem__(self, item):\n",
    "        return process_data(\n",
    "            self.df.text[item],\n",
    "            self.df.selected_text[item], \n",
    "            self.df.sentiment[item],\n",
    "            self.tokenizer,\n",
    "            self.max_len\n",
    "        )"
   ]
  },
  {
   "cell_type": "code",
   "execution_count": 7,
   "metadata": {},
   "outputs": [
    {
     "name": "stderr",
     "output_type": "stream",
     "text": [
      "  3%|▎         | 823/27481 [00:00<00:06, 4095.18it/s]"
     ]
    },
    {
     "name": "stdout",
     "output_type": "stream",
     "text": [
      "Found bad record at idx 18.\n",
      "Found bad record at idx 314.\n"
     ]
    },
    {
     "name": "stderr",
     "output_type": "stream",
     "text": [
      " 21%|██▏       | 5875/27481 [00:01<00:05, 4136.52it/s]"
     ]
    },
    {
     "name": "stdout",
     "output_type": "stream",
     "text": [
      "Found bad record at idx 5436.\n"
     ]
    },
    {
     "name": "stderr",
     "output_type": "stream",
     "text": [
      " 33%|███▎      | 9188/27481 [00:02<00:04, 4102.30it/s]"
     ]
    },
    {
     "name": "stdout",
     "output_type": "stream",
     "text": [
      "Found bad record at idx 8729.\n"
     ]
    },
    {
     "name": "stderr",
     "output_type": "stream",
     "text": [
      " 46%|████▌     | 12582/27481 [00:03<00:03, 4199.90it/s]"
     ]
    },
    {
     "name": "stdout",
     "output_type": "stream",
     "text": [
      "Found bad record at idx 11808.\n",
      "Found bad record at idx 12405.\n"
     ]
    },
    {
     "name": "stderr",
     "output_type": "stream",
     "text": [
      " 53%|█████▎    | 14702/27481 [00:03<00:03, 4232.25it/s]"
     ]
    },
    {
     "name": "stdout",
     "output_type": "stream",
     "text": [
      "Found bad record at idx 14172.\n"
     ]
    },
    {
     "name": "stderr",
     "output_type": "stream",
     "text": [
      " 58%|█████▊    | 15976/27481 [00:03<00:02, 4193.28it/s]"
     ]
    },
    {
     "name": "stdout",
     "output_type": "stream",
     "text": [
      "Found bad record at idx 15207.\n"
     ]
    },
    {
     "name": "stderr",
     "output_type": "stream",
     "text": [
      " 83%|████████▎ | 22764/27481 [00:05<00:01, 3853.50it/s]"
     ]
    },
    {
     "name": "stdout",
     "output_type": "stream",
     "text": [
      "Found bad record at idx 21983.\n"
     ]
    },
    {
     "name": "stderr",
     "output_type": "stream",
     "text": [
      " 94%|█████████▎| 25698/27481 [00:06<00:00, 4150.74it/s]"
     ]
    },
    {
     "name": "stdout",
     "output_type": "stream",
     "text": [
      "Found bad record at idx 24929.\n"
     ]
    },
    {
     "name": "stderr",
     "output_type": "stream",
     "text": [
      "100%|██████████| 27481/27481 [00:06<00:00, 4118.03it/s]\n"
     ]
    }
   ],
   "source": [
    "# preprocessing pass; see comments in the previous code cell on why this is necessary\n",
    "X_train_preprocessing_pass = TwitterSentimentExtractionDataset(train)\n",
    "\n",
    "import tqdm\n",
    "bad_idxs, good_idxs, y_firsts, y_lasts = [], [], [], []\n",
    "for i in tqdm.tqdm(list(range(len(train)))):\n",
    "    try:\n",
    "        x = X_train_preprocessing_pass[i]\n",
    "        y_firsts.append(x['y_first'])\n",
    "        y_lasts.append(x['y_last'])\n",
    "        good_idxs.append(i)\n",
    "    except ValueError:\n",
    "        print(f\"Found bad record at idx {i}.\")\n",
    "        y_firsts.append(None)\n",
    "        y_lasts.append(None)\n",
    "        bad_idxs.append(i)\n",
    "\n",
    "del X_train_preprocessing_pass"
   ]
  },
  {
   "cell_type": "code",
   "execution_count": 8,
   "metadata": {},
   "outputs": [
    {
     "data": {
      "text/plain": [
       "<matplotlib.axes._subplots.AxesSubplot at 0x7f974684b3d0>"
      ]
     },
     "execution_count": 8,
     "metadata": {},
     "output_type": "execute_result"
    },
    {
     "data": {
      "image/png": "[encoded data removed]",
      "text/plain": [
       "<Figure size 432x288 with 1 Axes>"
      ]
     },
     "metadata": {
      "needs_background": "light"
     },
     "output_type": "display_data"
    }
   ],
   "source": [
    "pd.Series(y_firsts).map(lambda v: v.item() if v else None).value_counts().sort_index().plot.line()"
   ]
  },
  {
   "cell_type": "code",
   "execution_count": 9,
   "metadata": {},
   "outputs": [
    {
     "data": {
      "text/plain": [
       "<matplotlib.axes._subplots.AxesSubplot at 0x7f9744090ad0>"
      ]
     },
     "execution_count": 9,
     "metadata": {},
     "output_type": "execute_result"
    },
    {
     "data": {
      "image/png": "[encoded data removed]",
      "text/plain": [
       "<Figure size 432x288 with 1 Axes>"
      ]
     },
     "metadata": {
      "needs_background": "light"
     },
     "output_type": "display_data"
    }
   ],
   "source": [
    "pd.Series(y_lasts).map(lambda v: v.item() if v else None).value_counts().sort_index().plot.line()"
   ]
  },
  {
   "cell_type": "code",
   "execution_count": 10,
   "metadata": {},
   "outputs": [
    {
     "data": {
      "text/html": [
       "<div>\n",
       "<style scoped>\n",
       "    .dataframe tbody tr th:only-of-type {\n",
       "        vertical-align: middle;\n",
       "    }\n",
       "\n",
       "    .dataframe tbody tr th {\n",
       "        vertical-align: top;\n",
       "    }\n",
       "\n",
       "    .dataframe thead th {\n",
       "        text-align: right;\n",
       "    }\n",
       "</style>\n",
       "<table border=\"1\" class=\"dataframe\">\n",
       "  <thead>\n",
       "    <tr style=\"text-align: right;\">\n",
       "      <th></th>\n",
       "      <th>textID</th>\n",
       "      <th>text</th>\n",
       "      <th>selected_text</th>\n",
       "      <th>sentiment</th>\n",
       "    </tr>\n",
       "  </thead>\n",
       "  <tbody>\n",
       "    <tr>\n",
       "      <th>18</th>\n",
       "      <td>af3fed7fc3</td>\n",
       "      <td>is back home now      gonna miss every one</td>\n",
       "      <td>onna</td>\n",
       "      <td>negative</td>\n",
       "    </tr>\n",
       "    <tr>\n",
       "      <th>314</th>\n",
       "      <td>fdb77c3752</td>\n",
       "      <td>NaN</td>\n",
       "      <td>NaN</td>\n",
       "      <td>neutral</td>\n",
       "    </tr>\n",
       "    <tr>\n",
       "      <th>5436</th>\n",
       "      <td>780c673bca</td>\n",
       "      <td>going out for the good ol` `soak` tonight for ...</td>\n",
       "      <td>ing</td>\n",
       "      <td>positive</td>\n",
       "    </tr>\n",
       "    <tr>\n",
       "      <th>8729</th>\n",
       "      <td>12f21c8f19</td>\n",
       "      <td>star wars ............ is **** BOO??? i wanna...</td>\n",
       "      <td>l</td>\n",
       "      <td>positive</td>\n",
       "    </tr>\n",
       "    <tr>\n",
       "      <th>11808</th>\n",
       "      <td>96ff964db0</td>\n",
       "      <td>4 hours of sleep, a migraine, again? What is w...</td>\n",
       "      <td>hat</td>\n",
       "      <td>negative</td>\n",
       "    </tr>\n",
       "    <tr>\n",
       "      <th>12405</th>\n",
       "      <td>df398a774e</td>\n",
       "      <td>alright...I`m going to get off comp now, go ...</td>\n",
       "      <td>ave</td>\n",
       "      <td>positive</td>\n",
       "    </tr>\n",
       "    <tr>\n",
       "      <th>14172</th>\n",
       "      <td>c155efab1b</td>\n",
       "      <td>Hey Honey  Bunny here  big bunny hugs</td>\n",
       "      <td>unny</td>\n",
       "      <td>positive</td>\n",
       "    </tr>\n",
       "    <tr>\n",
       "      <th>15207</th>\n",
       "      <td>4b3fd4ec22</td>\n",
       "      <td>Last day at DMA over!     a million sad faces.</td>\n",
       "      <td>ion</td>\n",
       "      <td>negative</td>\n",
       "    </tr>\n",
       "    <tr>\n",
       "      <th>21983</th>\n",
       "      <td>4c279acff6</td>\n",
       "      <td>why? i enjoy fancy meals on my own smtimes, t...</td>\n",
       "      <td>joy</td>\n",
       "      <td>positive</td>\n",
       "    </tr>\n",
       "    <tr>\n",
       "      <th>24929</th>\n",
       "      <td>09d0f8f088</td>\n",
       "      <td>two macaroons go into a bar....one says oh yo...</td>\n",
       "      <td>wo</td>\n",
       "      <td>positive</td>\n",
       "    </tr>\n",
       "  </tbody>\n",
       "</table>\n",
       "</div>"
      ],
      "text/plain": [
       "           textID                                               text  \\\n",
       "18     af3fed7fc3         is back home now      gonna miss every one   \n",
       "314    fdb77c3752                                                NaN   \n",
       "5436   780c673bca  going out for the good ol` `soak` tonight for ...   \n",
       "8729   12f21c8f19   star wars ............ is **** BOO??? i wanna...   \n",
       "11808  96ff964db0  4 hours of sleep, a migraine, again? What is w...   \n",
       "12405  df398a774e    alright...I`m going to get off comp now, go ...   \n",
       "14172  c155efab1b              Hey Honey  Bunny here  big bunny hugs   \n",
       "15207  4b3fd4ec22     Last day at DMA over!     a million sad faces.   \n",
       "21983  4c279acff6   why? i enjoy fancy meals on my own smtimes, t...   \n",
       "24929  09d0f8f088   two macaroons go into a bar....one says oh yo...   \n",
       "\n",
       "      selected_text sentiment  \n",
       "18             onna  negative  \n",
       "314             NaN   neutral  \n",
       "5436            ing  positive  \n",
       "8729              l  positive  \n",
       "11808           hat  negative  \n",
       "12405           ave  positive  \n",
       "14172          unny  positive  \n",
       "15207           ion  negative  \n",
       "21983           joy  positive  \n",
       "24929            wo  positive  "
      ]
     },
     "execution_count": 10,
     "metadata": {},
     "output_type": "execute_result"
    }
   ],
   "source": [
    "# recall the two rubbish cases: NaN values and selected texts not corresponding with token starts\n",
    "train.iloc[bad_idxs]"
   ]
  },
  {
   "cell_type": "code",
   "execution_count": 11,
   "metadata": {},
   "outputs": [],
   "source": [
    "train_orig = train\n",
    "X_train_df = train.iloc[good_idxs].reset_index(drop=True)"
   ]
  },
  {
   "cell_type": "markdown",
   "metadata": {},
   "source": [
    "## prototype model part"
   ]
  },
  {
   "cell_type": "code",
   "execution_count": 12,
   "metadata": {},
   "outputs": [],
   "source": [
    "class TwitterSentimentExtractionModel(torch.nn.Module):\n",
    "    def __init__(self):\n",
    "        super().__init__()\n",
    "        \n",
    "        # configuring the model to output hidden states\n",
    "        cfg = transformers.PretrainedConfig.get_config_dict(\"bert-base-uncased\")[0]  # tuple?\n",
    "        cfg[\"output_hidden_states\"] = True\n",
    "        cfg = transformers.BertConfig.from_dict(cfg)\n",
    "        self.bert = transformers.BertModel.from_pretrained(\"bert-base-uncased\", config=cfg)\n",
    "        \n",
    "        self.drop_out = nn.Dropout(0.1)\n",
    "        self.l0 = nn.Linear(768 * 2, 2)\n",
    "        torch.nn.init.normal_(self.l0.weight, std=0.02)\n",
    "        # self.out = nn.LogSoftmax(dim=-2)\n",
    "    \n",
    "    def forward(self, input_ids, attention_mask, token_type_ids):\n",
    "        # ignore the output from the model head, we'll instead we'll construct our own attention\n",
    "        # head connected to the last two layers of hidden weights.\n",
    "        # that's 512x762x2=780288 connections.\n",
    "        _, _, out = self.bert(\n",
    "            input_ids,\n",
    "            attention_mask=attention_mask,\n",
    "            token_type_ids=token_type_ids\n",
    "        )\n",
    "        out = torch.cat((out[-1], out[-2]), dim=-1)\n",
    "        out = self.drop_out(out)\n",
    "        # the new head uses a linear layer with two output nodes.\n",
    "        # the first node learns sequence start.\n",
    "        # the second node learns sequence end.\n",
    "        logits = self.l0(out)\n",
    "        start_logits, end_logits = logits.split(1, dim=-1)\n",
    "        start_logits = start_logits.squeeze(-1)\n",
    "        end_logits = end_logits.squeeze(-1)\n",
    "        \n",
    "        return start_logits, end_logits\n",
    "        \n",
    "        # TODO: embed softmax directly into the model arch\n",
    "        # y_start, y_end = self.out(start_logits), self.out(end_logits)\n",
    "        # return y_start, y_end"
   ]
  },
  {
   "cell_type": "code",
   "execution_count": 13,
   "metadata": {},
   "outputs": [],
   "source": [
    "# try it\n",
    "\n",
    "dataset = TwitterSentimentExtractionDataset(X_train_df)\n",
    "model = TwitterSentimentExtractionModel()\n",
    "ex = dataset[0]\n",
    "ex_input_ids, ex_attention_mask, ex_token_type_ids =\\\n",
    "    ex['input_ids'][None,:], ex['attention_mask'][None,:], ex['token_type_ids'][None,:]\n",
    "\n",
    "result = model(ex_input_ids, ex_attention_mask, ex_token_type_ids)"
   ]
  },
  {
   "cell_type": "code",
   "execution_count": 14,
   "metadata": {},
   "outputs": [],
   "source": [
    "def loss_fn(start_logits, end_logits, start_positions, end_positions):\n",
    "    ce = nn.CrossEntropyLoss()\n",
    "    y_pred_first_loss = ce(start_logits, start_positions)\n",
    "    y_pred_last_loss = ce(end_logits, end_positions)\n",
    "    y_pred_loss = (y_pred_first_loss + y_pred_last_loss)\n",
    "    return y_pred_loss"
   ]
  },
  {
   "cell_type": "code",
   "execution_count": 15,
   "metadata": {},
   "outputs": [
    {
     "data": {
      "text/plain": [
       "tensor(9.6803, grad_fn=<AddBackward0>)"
      ]
     },
     "execution_count": 15,
     "metadata": {},
     "output_type": "execute_result"
    }
   ],
   "source": [
    "# try it\n",
    "\n",
    "# loss_fn(result[0], result[1], torch.tensor([1]), torch.tensor([5]))"
   ]
  },
  {
   "cell_type": "code",
   "execution_count": 16,
   "metadata": {},
   "outputs": [
    {
     "data": {
      "text/plain": [
       "{'input_ids': tensor([[ 101, 8699,  102,  ...,    0,    0,    0],\n",
       "         [ 101, 4997,  102,  ...,    0,    0,    0],\n",
       "         [ 101, 4997,  102,  ...,    0,    0,    0],\n",
       "         ...,\n",
       "         [ 101, 4997,  102,  ...,    0,    0,    0],\n",
       "         [ 101, 3893,  102,  ...,    0,    0,    0],\n",
       "         [ 101, 4997,  102,  ...,    0,    0,    0]]),\n",
       " 'token_type_ids': tensor([[0, 0, 0,  ..., 0, 0, 0],\n",
       "         [0, 0, 0,  ..., 0, 0, 0],\n",
       "         [0, 0, 0,  ..., 0, 0, 0],\n",
       "         ...,\n",
       "         [0, 0, 0,  ..., 0, 0, 0],\n",
       "         [0, 0, 0,  ..., 0, 0, 0],\n",
       "         [0, 0, 0,  ..., 0, 0, 0]]),\n",
       " 'attention_mask': tensor([[1, 1, 1,  ..., 0, 0, 0],\n",
       "         [1, 1, 1,  ..., 0, 0, 0],\n",
       "         [1, 1, 1,  ..., 0, 0, 0],\n",
       "         ...,\n",
       "         [1, 1, 1,  ..., 0, 0, 0],\n",
       "         [1, 1, 1,  ..., 0, 0, 0],\n",
       "         [1, 1, 1,  ..., 0, 0, 0]]),\n",
       " 'y_first': tensor([ 4,  4,  7,  7,  4,  3, 12,  3,  4,  7,  4,  7,  9, 13,  3,  3, 15,  8,\n",
       "          3,  4,  9,  3,  3,  3,  3,  4, 11, 18, 16, 19,  5, 24,  8,  4,  3, 21,\n",
       "          3,  7,  3,  4,  6,  3,  3,  4,  3, 23,  3, 16, 15,  4,  4,  4,  4,  4,\n",
       "          4, 23,  3,  6,  4,  3,  4,  3, 27, 19]),\n",
       " 'y_last': tensor([13,  6,  8,  9, 10, 33, 12,  7,  6, 15, 30,  7,  9, 13, 13, 12, 17,  8,\n",
       "         11, 26, 10, 19, 26, 36, 18,  8, 13, 18, 21, 24,  5, 33,  9, 30, 37, 21,\n",
       "         29, 17, 29, 27,  8,  8, 41,  7, 26, 26, 11, 19, 24, 27, 20, 15, 24,  7,\n",
       "         19, 23, 26,  9, 10, 22,  6,  9, 27, 21])}"
      ]
     },
     "execution_count": 16,
     "metadata": {},
     "output_type": "execute_result"
    }
   ],
   "source": [
    "# try it\n",
    "\n",
    "X_train = TwitterSentimentExtractionDataset(X_train_df)\n",
    "X_train_dataloader = torch.utils.data.DataLoader(\n",
    "    X_train,\n",
    "    batch_size=64,\n",
    "    num_workers=1\n",
    ")\n",
    "iter(X_train_dataloader).next()"
   ]
  },
  {
   "cell_type": "markdown",
   "metadata": {},
   "source": [
    "## prototype training loop"
   ]
  },
  {
   "cell_type": "code",
   "execution_count": 20,
   "metadata": {},
   "outputs": [],
   "source": [
    "# create model\n",
    "device = torch.device(\"cuda\")\n",
    "\n",
    "model = TwitterSentimentExtractionModel()\n",
    "model.to(device)\n",
    "pass"
   ]
  },
  {
   "cell_type": "code",
   "execution_count": 18,
   "metadata": {},
   "outputs": [],
   "source": [
    "# create optimizer; uses weight decay\n",
    "model_parameters = list(model.named_parameters())\n",
    "no_decay = [\"bias\", \"LayerNorm.bias\", \"LayerNorm.weight\"]\n",
    "optimizer_parameters = [\n",
    "    {'params': [p for n, p in model_parameters if not any(nd in n for nd in no_decay)], 'weight_decay': 0.001},\n",
    "    {'params': [p for n, p in model_parameters if any(nd in n for nd in no_decay)], 'weight_decay': 0.0},\n",
    "]\n",
    "optimizer = AdamW(optimizer_parameters, lr=3e-5)"
   ]
  },
  {
   "cell_type": "code",
   "execution_count": 76,
   "metadata": {},
   "outputs": [],
   "source": [
    "# batch size and epochs globals; setting batch_size = 1 for testing, 64 is too much for the K80\n",
    "batch_size = 1\n",
    "# batch_size = 64\n",
    "epochs = 5"
   ]
  },
  {
   "cell_type": "code",
   "execution_count": 77,
   "metadata": {},
   "outputs": [],
   "source": [
    "# dataset and dataloader\n",
    "dataset = TwitterSentimentExtractionDataset(X_train_df)\n",
    "dataloader = torch.utils.data.DataLoader(\n",
    "    dataset,\n",
    "    batch_size=batch_size,\n",
    "    num_workers=1\n",
    ")"
   ]
  },
  {
   "cell_type": "code",
   "execution_count": 42,
   "metadata": {},
   "outputs": [],
   "source": [
    "# create scheduler, this one is a transformers module hookup, thanks huggingface\n",
    "num_train_steps = int(len(dataloader) * epochs)\n",
    "scheduler = get_linear_schedule_with_warmup(\n",
    "    optimizer,\n",
    "    num_warmup_steps=0,\n",
    "    num_training_steps=num_train_steps\n",
    ")"
   ]
  },
  {
   "cell_type": "code",
   "execution_count": 57,
   "metadata": {},
   "outputs": [],
   "source": [
    "# train func for one epoch of training\n",
    "def train_fn(dataloader, model, optimizer, device, scheduler, epoch_num):\n",
    "    model.train()\n",
    "    \n",
    "    losses = []\n",
    "    fn = lambda field: records[field].to(device, dtype=torch.long)\n",
    "    for idx, records in enumerate(dataloader):\n",
    "        # move the record to GPU\n",
    "        input_ids = fn(\"input_ids\")\n",
    "        token_type_ids = fn(\"token_type_ids\")\n",
    "        attention_mask = fn(\"attention_mask\")\n",
    "        y_first = fn(\"y_first\")\n",
    "        y_last = fn(\"y_last\")\n",
    "        \n",
    "        model.zero_grad()\n",
    "        y_pred_start_logits, y_pred_end_logits = model(\n",
    "            input_ids=input_ids,\n",
    "            attention_mask=attention_mask,\n",
    "            token_type_ids=token_type_ids,\n",
    "        )\n",
    "        loss = loss_fn(y_pred_start_logits, y_pred_end_logits, y_first, y_last)\n",
    "        loss.backward()\n",
    "        optimizer.step()\n",
    "        scheduler.step()\n",
    "\n",
    "        y_pred_starts = torch.softmax(y_pred_start_logits, dim=1).cpu().detach().numpy()\n",
    "        y_pred_ends = torch.softmax(y_pred_end_logits, dim=1).cpu().detach().numpy()\n",
    "        losses.append(loss.item())\n",
    "        \n",
    "        if idx % 10 == 0:\n",
    "            print(f\"epoch {epoch_num}, batch {idx} training loss: {losses[-1]}\")\n",
    "        \n",
    "        break\n",
    "\n",
    "    return losses"
   ]
  },
  {
   "cell_type": "code",
   "execution_count": 59,
   "metadata": {},
   "outputs": [
    {
     "name": "stdout",
     "output_type": "stream",
     "text": [
      "epoch 1, batch 0 training loss: 9.667827606201172\n"
     ]
    },
    {
     "data": {
      "text/plain": [
       "[9.667827606201172]"
      ]
     },
     "execution_count": 59,
     "metadata": {},
     "output_type": "execute_result"
    }
   ],
   "source": [
    "# try it; note, first you should unhide the break\n",
    "\n",
    "train_fn(dataloader, model, optimizer, device, scheduler, 1)"
   ]
  },
  {
   "cell_type": "code",
   "execution_count": 79,
   "metadata": {},
   "outputs": [],
   "source": [
    "def main():\n",
    "    checkpoints_dir = \"/spell/checkpoints/\"\n",
    "    if not os.path.exists(checkpoints_dir):\n",
    "        os.mkdir(checkpoints_dir)\n",
    "    \n",
    "    for epoch in range(1, epochs + 1):\n",
    "        train_fn(dataloader, model, optimizer, device, scheduler, epoch)\n",
    "        torch.save(model.state_dict(), f\"/spell/checkpoints/model_{epoch}.pth\")"
   ]
  },
  {
   "cell_type": "markdown",
   "metadata": {},
   "source": [
    "## write model definition to disk"
   ]
  },
  {
   "cell_type": "code",
   "execution_count": 63,
   "metadata": {},
   "outputs": [],
   "source": [
    "!mkdir ../models/"
   ]
  },
  {
   "cell_type": "code",
   "execution_count": 83,
   "metadata": {},
   "outputs": [
    {
     "name": "stdout",
     "output_type": "stream",
     "text": [
      "Overwriting ../models/model_1.py\n"
     ]
    }
   ],
   "source": [
    "%%writefile ../models/model_1.py\n",
    "import os\n",
    "import torch\n",
    "import pandas as pd\n",
    "import numpy as np\n",
    "import torch.nn as nn\n",
    "import numpy as np\n",
    "import torch.nn.functional as F\n",
    "from torch.optim import lr_scheduler\n",
    "# from sklearn import model_selection\n",
    "# from sklearn import metrics\n",
    "import transformers\n",
    "import tokenizers\n",
    "from transformers import AdamW, AutoTokenizer, get_linear_schedule_with_warmup\n",
    "from tqdm.autonotebook import tqdm\n",
    "from collections import namedtuple\n",
    "\n",
    "train = pd.read_csv(\"/mnt/tweet-sentiment-extraction/train.csv\")\n",
    "def process_data(tweet, selected_text, sentiment, tokenizer, max_len):\n",
    "    # yes this really happens lol, try idx 314\n",
    "    if pd.isnull(tweet) or pd.isnull(selected_text) or len(tweet) == 0 or len(selected_text) == 0:\n",
    "        raise ValueError(\"text or selected_text is nan.\")\n",
    "    \n",
    "    # get indicial boundaries of substring.\n",
    "    target_char_idx_start = tweet.index(selected_text)\n",
    "    target_char_idx_end = target_char_idx_start + len(selected_text)\n",
    "\n",
    "    # build the character attention mask (used to build the token attention mask)\n",
    "    char_target_mask = (\n",
    "        [0] * target_char_idx_start +\n",
    "        [1] * (target_char_idx_end - target_char_idx_start) +\n",
    "        [0] * (len(tweet) - target_char_idx_end)\n",
    "    )\n",
    "    \n",
    "    # tokenize\n",
    "    # `ids` is the token values, `offsets` are the position tuples for the tokes in the str\n",
    "    tokens_obj = tokenizer.encode(tweet)\n",
    "    token_ids, token_offsets = tokens_obj.ids, tokens_obj.offsets\n",
    "    \n",
    "    # this is the clever bit. recall that the task is to find the subsequence in the sequence\n",
    "    # exemplifying the given sentiment. to do this we reformulate the input sequence as a\n",
    "    # question-answer pair, where the sentiment (as a single word) is the question and the\n",
    "    # sequence as a whole is the answer.\n",
    "    # \n",
    "    # this allows us to use version of the BERT model pretrained on the well-formed and\n",
    "    # well-studied question-answering task as a surrogate for this task.\n",
    "    sentiment_id_map = {\n",
    "        'positive': 3893,\n",
    "        'negative': 4997,\n",
    "        'neutral': 8699\n",
    "    }\n",
    "    # 101 is [CLS] and 102 is [SEP]. BERT expects Q/A input to be in the form\n",
    "    # [CLS] [...] [SEP] [...] [SEP]. Cf.\n",
    "    # https://huggingface.co/transformers/glossary.html#token-type-ids\n",
    "    # NOTE: the [-1:1] is the excise the start-of-seq and end-of-seq in the tokens\n",
    "    input_ids = [101] + [sentiment_id_map[sentiment]] + [102] + token_ids[1:-1] + [102]\n",
    "    \n",
    "    # BERT expects Q/A pairs to come with a binary mask splitting the pair types\n",
    "    # NOTE: the mafs excludes start-of-seq and end-of-seq but includes the new end-of-seq\n",
    "    token_type_ids = [0, 0, 0] + [1] * (len(token_ids) - 2 + 1)\n",
    "\n",
    "    # pad to max_len and create a corresponding attention mask\n",
    "    pad_len = max_len - len(input_ids)\n",
    "    attention_mask = [1] * len(input_ids) + [0] * pad_len\n",
    "    input_ids = input_ids + [0] * pad_len\n",
    "    token_type_ids = token_type_ids + [0] * pad_len\n",
    "    \n",
    "    # get the index of the first and last token of the target, this is what the model will try\n",
    "    # to predict! see the notes on the head layer in forward for more info.\n",
    "    # we add 3 because the first thee elements of the mask are always [CLS] $SENTIMENT [CLS]\n",
    "    # and always get an attention vector [1 1 1].\n",
    "    ufunc = lambda first, _: first >= target_char_idx_start and first < target_char_idx_end\n",
    "    y_pred_mask = [ufunc(*offset) for offset in token_offsets]\n",
    "    try:\n",
    "        y_first = 3 + y_pred_mask.index(True)\n",
    "        y_last = 3 + len(y_pred_mask) - y_pred_mask[::-1].index(True) - 1\n",
    "    except ValueError:\n",
    "        # some of the labels are noisy, and the first character in the label does not actually\n",
    "        # correspond with the first character of any token (e.g. the label is a part-of-a-word\n",
    "        # instead of a word). I'm going to venture the opinion here that these records \n",
    "        # constitute data noise (because, I mean, they are) and should be removed in\n",
    "        # pre-processing\n",
    "        raise ValueError(\n",
    "            f\"Found bad selected_text value '{selected_text}' for tweet '{tweet}'.\"\n",
    "            f\"Make sure to get rid of these in a pre-processing pass.\"\n",
    "        )\n",
    "    \n",
    "    # convert to torch tensors\n",
    "    t = lambda seq: torch.tensor(seq, dtype=torch.long)\n",
    "    input_ids, token_type_ids, attention_mask, y_first, y_last =\\\n",
    "        t(input_ids), t(token_type_ids), t(attention_mask), t(y_first), t(y_last)\n",
    "    \n",
    "    # output\n",
    "    # Unfortunately the PyTorch dataloader relies on pickle, and TIL namedtuples do not play nice\n",
    "    # with pickle!\n",
    "    # Record = namedtuple('record', 'input_ids token_type_ids attention_mask y_first y_last')\n",
    "    # return Record(input_ids, token_type_ids, attention_mask, y_first, y_last)\n",
    "    return {\n",
    "        \"input_ids\": input_ids,\n",
    "        \"token_type_ids\": token_type_ids,\n",
    "        \"attention_mask\": attention_mask,\n",
    "        \"y_first\": y_first,\n",
    "        \"y_last\": y_last\n",
    "    }\n",
    "\n",
    "class TwitterSentimentExtractionDataset:\n",
    "    def __init__(self, df):\n",
    "        self.df = df\n",
    "        self.tokenizer = tokenizers.BertWordPieceTokenizer(\n",
    "            f\"/mnt/bert-base-uncased/vocab.txt\", lowercase=True\n",
    "        )\n",
    "        self.max_len = 128\n",
    "    \n",
    "    def __len__(self):\n",
    "        return len(self.df)\n",
    "\n",
    "    def __getitem__(self, item):\n",
    "        return process_data(\n",
    "            self.df.text[item],\n",
    "            self.df.selected_text[item], \n",
    "            self.df.sentiment[item],\n",
    "            self.tokenizer,\n",
    "            self.max_len\n",
    "        )\n",
    "\n",
    "# preprocessing pass; see comments in the previous code cell on why this is necessary\n",
    "X_train_preprocessing_pass = TwitterSentimentExtractionDataset(train)\n",
    "\n",
    "bad_idxs, good_idxs, y_firsts, y_lasts = [], [], [], []\n",
    "for i in range(len(train)):\n",
    "# for i in tqdm.tqdm(list(range(len(train)))):\n",
    "    try:\n",
    "        x = X_train_preprocessing_pass[i]\n",
    "        y_firsts.append(x['y_first'])\n",
    "        y_lasts.append(x['y_last'])\n",
    "        good_idxs.append(i)\n",
    "    except ValueError:\n",
    "        print(f\"Found bad record at idx {i}.\")\n",
    "        y_firsts.append(None)\n",
    "        y_lasts.append(None)\n",
    "        bad_idxs.append(i)\n",
    "\n",
    "del X_train_preprocessing_pass\n",
    "train_orig = train\n",
    "X_train_df = train.iloc[good_idxs].reset_index(drop=True)\n",
    "\n",
    "class TwitterSentimentExtractionModel(torch.nn.Module):\n",
    "    def __init__(self):\n",
    "        super().__init__()\n",
    "        \n",
    "        # configuring the model to output hidden states\n",
    "        cfg = transformers.PretrainedConfig.get_config_dict(\"bert-base-uncased\")[0]  # tuple?\n",
    "        cfg[\"output_hidden_states\"] = True\n",
    "        cfg = transformers.BertConfig.from_dict(cfg)\n",
    "        self.bert = transformers.BertModel.from_pretrained(\"bert-base-uncased\", config=cfg)\n",
    "        \n",
    "        self.drop_out = nn.Dropout(0.1)\n",
    "        self.l0 = nn.Linear(768 * 2, 2)\n",
    "        torch.nn.init.normal_(self.l0.weight, std=0.02)\n",
    "        # self.out = nn.LogSoftmax(dim=-2)\n",
    "    \n",
    "    def forward(self, input_ids, attention_mask, token_type_ids):\n",
    "        # ignore the output from the model head, we'll instead we'll construct our own attention\n",
    "        # head connected to the last two layers of hidden weights.\n",
    "        # that's 512x762x2=780288 connections.\n",
    "        _, _, out = self.bert(\n",
    "            input_ids,\n",
    "            attention_mask=attention_mask,\n",
    "            token_type_ids=token_type_ids\n",
    "        )\n",
    "        out = torch.cat((out[-1], out[-2]), dim=-1)\n",
    "        out = self.drop_out(out)\n",
    "        # the new head uses a linear layer with two output nodes.\n",
    "        # the first node learns sequence start.\n",
    "        # the second node learns sequence end.\n",
    "        logits = self.l0(out)\n",
    "        start_logits, end_logits = logits.split(1, dim=-1)\n",
    "        start_logits = start_logits.squeeze(-1)\n",
    "        end_logits = end_logits.squeeze(-1)\n",
    "        \n",
    "        return start_logits, end_logits\n",
    "        \n",
    "        # TODO: embed softmax directly into the model arch\n",
    "        # y_start, y_end = self.out(start_logits), self.out(end_logits)\n",
    "        # return y_start, y_end\n",
    "\n",
    "def loss_fn(start_logits, end_logits, start_positions, end_positions):\n",
    "    ce = nn.CrossEntropyLoss()\n",
    "    y_pred_first_loss = ce(start_logits, start_positions)\n",
    "    y_pred_last_loss = ce(end_logits, end_positions)\n",
    "    y_pred_loss = (y_pred_first_loss + y_pred_last_loss)\n",
    "    return y_pred_loss\n",
    "\n",
    "# create model\n",
    "device = torch.device(\"cuda\")\n",
    "\n",
    "model = TwitterSentimentExtractionModel()\n",
    "model.to(device)\n",
    "\n",
    "# create optimizer; uses weight decay\n",
    "model_parameters = list(model.named_parameters())\n",
    "no_decay = [\"bias\", \"LayerNorm.bias\", \"LayerNorm.weight\"]\n",
    "optimizer_parameters = [\n",
    "    {'params': [p for n, p in model_parameters if not any(nd in n for nd in no_decay)], 'weight_decay': 0.001},\n",
    "    {'params': [p for n, p in model_parameters if any(nd in n for nd in no_decay)], 'weight_decay': 0.0},\n",
    "]\n",
    "optimizer = AdamW(optimizer_parameters, lr=3e-5)\n",
    "\n",
    "# batch size and epochs globals; setting batch_size = 1 for testing, 64 is too much for the K80\n",
    "batch_size = 64\n",
    "epochs = 5\n",
    "\n",
    "# dataset and dataloader\n",
    "dataset = TwitterSentimentExtractionDataset(X_train_df)\n",
    "dataloader = torch.utils.data.DataLoader(\n",
    "    dataset,\n",
    "    batch_size=batch_size,\n",
    "    num_workers=1\n",
    ")\n",
    "\n",
    "# create scheduler, this one is a transformers module hookup, thanks huggingface\n",
    "num_train_steps = int(len(dataloader) * epochs)\n",
    "scheduler = get_linear_schedule_with_warmup(\n",
    "    optimizer,\n",
    "    num_warmup_steps=0,\n",
    "    num_training_steps=num_train_steps\n",
    ")\n",
    "\n",
    "# train func for one epoch of training\n",
    "def train_fn(dataloader, model, optimizer, device, scheduler, epoch_num):\n",
    "    model.train()\n",
    "    \n",
    "    losses = []\n",
    "    fn = lambda field: records[field].to(device, dtype=torch.long)\n",
    "    for idx, records in enumerate(dataloader):\n",
    "        # move the record to GPU\n",
    "        input_ids = fn(\"input_ids\")\n",
    "        token_type_ids = fn(\"token_type_ids\")\n",
    "        attention_mask = fn(\"attention_mask\")\n",
    "        y_first = fn(\"y_first\")\n",
    "        y_last = fn(\"y_last\")\n",
    "        \n",
    "        model.zero_grad()\n",
    "        y_pred_start_logits, y_pred_end_logits = model(\n",
    "            input_ids=input_ids,\n",
    "            attention_mask=attention_mask,\n",
    "            token_type_ids=token_type_ids,\n",
    "        )\n",
    "        loss = loss_fn(y_pred_start_logits, y_pred_end_logits, y_first, y_last)\n",
    "        loss.backward()\n",
    "        optimizer.step()\n",
    "        scheduler.step()\n",
    "\n",
    "        y_pred_starts = torch.softmax(y_pred_start_logits, dim=1).cpu().detach().numpy()\n",
    "        y_pred_ends = torch.softmax(y_pred_end_logits, dim=1).cpu().detach().numpy()\n",
    "        losses.append(loss.item())\n",
    "        \n",
    "        if idx % 10 == 0:\n",
    "            print(f\"epoch {epoch_num}, batch {idx} training loss: {losses[-1]}\")\n",
    "\n",
    "    return losses\n",
    "\n",
    "\n",
    "def main():\n",
    "    checkpoints_dir = \"/spell/checkpoints/\"\n",
    "    if not os.path.exists(checkpoints_dir):\n",
    "        os.mkdir(checkpoints_dir)\n",
    "    \n",
    "    for epoch in range(1, epochs + 1):\n",
    "        train_fn(dataloader, model, optimizer, device, scheduler, epoch)\n",
    "        torch.save(model.state_dict(), f\"/spell/checkpoints/model_{epoch}.pth\")\n",
    "\n",
    "if __name__ == \"__main__\":\n",
    "    main()"
   ]
  },
  {
   "cell_type": "code",
   "execution_count": 74,
   "metadata": {},
   "outputs": [
    {
     "data": {
      "text/plain": [
       "True"
      ]
     },
     "execution_count": 74,
     "metadata": {},
     "output_type": "execute_result"
    }
   ],
   "source": [
    "os.path.exists(\"/spell/checkpoints/\")"
   ]
  },
  {
   "cell_type": "code",
   "execution_count": 73,
   "metadata": {},
   "outputs": [],
   "source": [
    "os.mkdir(\"/spell/checkpoints/\")"
   ]
  }
 ],
 "metadata": {
  "kernelspec": {
   "display_name": "Python 3",
   "language": "python",
   "name": "python3"
  },
  "language_info": {
   "codemirror_mode": {
    "name": "ipython",
    "version": 3
   },
   "file_extension": ".py",
   "mimetype": "text/x-python",
   "name": "python",
   "nbconvert_exporter": "python",
   "pygments_lexer": "ipython3",
   "version": "3.7.7"
  }
 },
 "nbformat": 4,
 "nbformat_minor": 4
}
