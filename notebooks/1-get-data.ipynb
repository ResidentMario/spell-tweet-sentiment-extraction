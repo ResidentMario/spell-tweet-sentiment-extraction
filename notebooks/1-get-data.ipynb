{
 "cells": [
  {
   "cell_type": "code",
   "execution_count": 9,
   "metadata": {},
   "outputs": [],
   "source": [
    "%%bash\n",
    "export KAGGLE_USERNAME=residentmario KAGGLE_KEY=ea4163444bc3b21c1b810b218c385038\n",
    "kaggle competitions download tweet-sentiment-extraction\n",
    "unzip tweet-sentiment-extraction.zip -d /mnt/tweet-sentiment-extraction/\n",
    "rm tweet-sentiment-extraction.zip\n",
    "\n",
    "kaggle datasets download abhishek/bert-base-uncased\n",
    "unzip bert-base-uncased.zip -d /mnt/bert-base-uncased/\n",
    "rm bert-base-uncased.zip"
   ]
  },
  {
   "cell_type": "code",
   "execution_count": 13,
   "metadata": {},
   "outputs": [],
   "source": [
    "!mkdir ../scripts"
   ]
  },
  {
   "cell_type": "code",
   "execution_count": 14,
   "metadata": {},
   "outputs": [
    {
     "name": "stdout",
     "output_type": "stream",
     "text": [
      "Writing ../scripts/download_data.sh\n"
     ]
    }
   ],
   "source": [
    "%%writefile ../scripts/download_data.sh\n",
    "export KAGGLE_USERNAME=residentmario KAGGLE_KEY=ea4163444bc3b21c1b810b218c385038\n",
    "kaggle competitions download tweet-sentiment-extraction\n",
    "unzip tweet-sentiment-extraction.zip -d /mnt/tweet-sentiment-extraction/\n",
    "rm tweet-sentiment-extraction.zip\n",
    "\n",
    "kaggle datasets download abhishek/bert-base-uncased\n",
    "unzip bert-base-uncased.zip -d /mnt/bert-base-uncased/\n",
    "rm bert-base-uncased.zip"
   ]
  }
 ],
 "metadata": {
  "kernelspec": {
   "display_name": "Python 3",
   "language": "python",
   "name": "python3"
  },
  "language_info": {
   "codemirror_mode": {
    "name": "ipython",
    "version": 3
   },
   "file_extension": ".py",
   "mimetype": "text/x-python",
   "name": "python",
   "nbconvert_exporter": "python",
   "pygments_lexer": "ipython3",
   "version": "3.7.7"
  }
 },
 "nbformat": 4,
 "nbformat_minor": 4
}
